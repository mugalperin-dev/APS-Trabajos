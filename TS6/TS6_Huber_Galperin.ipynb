{
 "cells": [
  {
   "cell_type": "markdown",
   "id": "f85457c3-2b74-4d6b-a7f3-e25d3df5d21b",
   "metadata": {},
   "source": [
    "# <center> Tarea semanal 6</center>\n",
    "### <center> Autores: Arturo Huber, Matias Galperin</center>"
   ]
  },
  {
   "cell_type": "markdown",
   "id": "622cac08-860f-4972-873a-19fbe0f09906",
   "metadata": {},
   "source": [
    "## Introducción Teórica\n",
    "\n",
    "En el presente trabajo se analizó una red analógica pasiva compuesta por resistencias, inductancias y capacitores dispuestos de manera tal que su función de transferencia $T(s) = \\dfrac{V_2(s)}{V_1(s)}$ corresponde a una **sección bicuadrática**. Este tipo de redes permiten implementar filtros de segundo orden con características específicas de frecuencia, ganancia y selectividad, constituyendo el bloque fundamental en el diseño de filtros analógicos y digitales más complejos.\n",
    "\n",
    "Una **función bicuadrática** se expresa de forma general como:\n",
    "\n",
    "\\begin{equation}\n",
    "T(s) = k \\cdot \\frac{s^2 + \\frac{\\omega_{0Z}}{Q_Z}s + \\omega_{0Z}^2}{s^2 + \\frac{\\omega_{0P}}{Q_P}s + \\omega_{0P}^2}\n",
    "\\end{equation}\n",
    "\n",
    "donde $k$ representa la ganancia en continua, $\\omega_{0Z}$ y $\\omega_{0P}$ son las frecuencias naturales asociadas a los ceros y polos respectivamente, y $Q_Z$ y $Q_P$ los factores de calidad correspondientes.  \n",
    "La ubicación de polos y ceros en el plano complejo determina el comportamiento frecuencial del circuito, permitiendo identificar si la red actúa como filtro pasa bajos, pasa altos, pasa banda o rechaza banda.\n",
    "\n",
    "El estudio teórico consiste en obtener la expresión simbólica de $T(s)$ a partir del análisis de impedancias y divisores de tensión, demostrando su correspondencia con una forma bicuadrática. Luego se parametrizan los coeficientes en función de los elementos del circuito ($R$, $L$, $C$, $a$, $b$, $d$), identificando los valores equivalentes de $k$, $\\omega_{0Z}$, $Q_Z$, $\\omega_{0P}$ y $Q_P$. Finalmente, se construyen distintas configuraciones normalizadas y se analiza el diagrama de polos y ceros, así como la respuesta en frecuencia de módulo y fase.\n",
    "\n",
    "Este análisis permite comprender cómo los parámetros físicos de los componentes afectan la dinámica del sistema y cómo puede ajustarse la red para implementar distintos tipos de filtros selectivos de segundo orden.\n",
    "\n",
    "Los filtros se utilizan para modificar el contenido espectral de una señal, permitiendo el paso de ciertas frecuencias y atenuando otras.  \n",
    "Se utilizan ampliamente en procesamiento de señales, comunicaciones y control, por ejemplo, para eliminar ruido, separar bandas de interés, extraer componentes útiles o limitar el ancho de banda de un sistema.  \n",
    "Dependiendo de su respuesta en frecuencia, pueden ser pasa bajos, pasa altos, pasa banda o rechaza banda, cada uno con una función específica en el análisis y diseño de sistemas electrónicos."
   ]
  },
  {
   "cell_type": "markdown",
   "id": "686a4487-13d8-4732-8e92-a8f48ab566bb",
   "metadata": {},
   "source": [
    "## Análisis y Desarrollo"
   ]
  },
  {
   "cell_type": "markdown",
   "id": "7698e646-112e-48a5-a3b6-27acc4c2bea8",
   "metadata": {},
   "source": [
    "El circuito analizado corresponde a una red pasiva conformada por resistencias, inductancias y capacitores, con una configuración que permite implementar una sección bicuadrática (SOS).  \n",
    "El objetivo fue demostrar que la función de transferencia $T(s) = \\dfrac{V_2(s)}{V_1(s)}$ adopta una forma racional de segundo orden tanto en el numerador como en el denominador, característica de los filtros de segundo orden.\n",
    "\n",
    "---\n",
    "\n",
    "#### 1. Obtención de la función de transferencia\n",
    "\n",
    "A partir del análisis de impedancias equivalentes, se consideraron dos ramas:  \n",
    "- Una red $Z_1$ que agrupa el lazo izquierdo (con $C a$, $L/b$ y $R/d$).  \n",
    "- Una red $Z_2$ correspondiente al lazo derecho (con $C(1-a)$ y $L/(1-b)$ en paralelo con $R/(1-d)$).  \n",
    "\n",
    "El divisor de tensión da lugar a:\n",
    "\n",
    "\\begin{equation}\n",
    "T(s) = \\frac{V_2(s)}{V_1(s)} = \\frac{Z_2}{Z_1 + Z_2}\n",
    "\\end{equation}\n",
    "\n",
    "Luego del desarrollo algebraico y reducción de impedancias, se obtiene:\n",
    "\n",
    "\\begin{equation}\n",
    "T(s) = \\frac{s^2 L R a + s L d + R b}{s^2 L R (a + b - a b) + s L (1 - d) + R (1 - b)}\n",
    "\\end{equation}\n",
    "\n",
    "También se obtuvieron los polos y ceros de la función. Estos determinan el comportamiento dinámico y frecuencial de un sistema lineal.  \n",
    "Los ceros indican las frecuencias en las que la respuesta se anula, definiendo regiones de atenuación o cancelación de componentes espectrales.  \n",
    "Por otro lado, los polos establecen las frecuencias naturales del sistema y su estabilidad, ya que su posición en el plano complejo afecta la ganancia, la selectividad y el amortiguamiento de la respuesta.  \n",
    "En los filtros, la ubicación relativa de polos y ceros permite controlar cómo se va a comportar el circuito, siendo por lo tanto un aspecto fundamental en el diseño y análisis de redes analógicas."
   ]
  },
  {
   "cell_type": "markdown",
   "id": "5562d784-82e8-4c2a-92ae-353883d918fd",
   "metadata": {},
   "source": [
    ![TS 6-1.jpg]
   ]
  },
  {
   "cell_type": "markdown",
   "id": "1122451b-19d2-46b9-bf96-64b581e0e84d",
   "metadata": {},
   "source": [
    "<img src=\"./TS 6-2.jpg\" align=\"middle\" width=\"600\" /> "
   ]
  },
  {
   "cell_type": "markdown",
   "id": "c03a6a93-c8cf-414c-b7f8-ee451a4fc8c0",
   "metadata": {},
   "source": [
    "A partir de las expresiones normalizadas, se calcularon los polos y ceros como:\n",
    "\n",
    "\\begin{equation}\n",
    "s_{P_{1,2}} = -\\frac{\\omega_{0P}}{2Q_P} \\pm j\\omega_{0P}\\sqrt{1 - \\frac{1}{4Q_P^2}}\n",
    "\\end{equation}\n",
    "\\begin{equation}\n",
    "s_{Z_{1,2}} = -\\frac{\\omega_{0Z}}{2Q_Z} \\pm j\\omega_{0Z}\\sqrt{1 - \\frac{1}{4Q_Z^2}}\n",
    "\\end{equation}\n",
    "\n",
    "En el plano $s$, los ceros se ubicaron sobre el eje imaginario para las funciones con comportamiento de tipo pasa-altos o pasa-banda, mientras que los polos se distribuyeron en el semiplano izquierdo, garantizando estabilidad.  \n",
    "Se observaron distintos grados de amortiguamiento según los valores de $Q_P$ y $Q_Z$ elegidos."
   ]
  },
  {
   "cell_type": "markdown",
   "id": "f4121f5a-c6e1-43e9-ab63-a53822316db9",
   "metadata": {},
   "source": [
    "<img src=\"./TS 6-3.jpg\" align=\"middle\" width=\"600\" /> "
   ]
  },
  {
   "cell_type": "markdown",
   "id": "98763b8a-b412-4cfa-aa81-136253fadcdb",
   "metadata": {},
   "source": [
    "<img src=\"./TS 6-4.jpg\" align=\"middle\" width=\"600\" /> "
   ]
  },
  {
   "cell_type": "markdown",
   "id": "57bea8f1-347d-4021-aa0b-7937cfacc87b",
   "metadata": {},
   "source": [
    "<img src=\"./TS 6-5.jpg\" align=\"middle\" width=\"600\" /> "
   ]
  },
  {
   "cell_type": "markdown",
   "id": "ad1e3310-9f13-4128-8a2a-4edede40ad2a",
   "metadata": {},
   "source": [
    "<img src=\"./TS 6-6.jpg\" align=\"middle\" width=\"600\" /> "
   ]
  },
  {
   "cell_type": "markdown",
   "id": "4aa650cc-6998-4138-8304-db96165bb59a",
   "metadata": {},
   "source": [
    "Finalmente, se graficó el módulo y la fase de $|T(j\\omega)|$ para cada caso.  \n",
    "- En $T_1(s)$ se verificó una respuesta pasa bajos, con una ganancia inicial elevada y atenuación progresiva.  \n",
    "- En $T_2(s)$ se observó un pasa altos, con ganancia unitaria en baja frecuencia y fuerte atenuación para $\\omega > \\omega_0$.  \n",
    "- En $T_3(s)$ se obtuvo un suprime banda.\n",
    "\n",
    "Los resultados experimentales y analíticos coincidieron con las formas esperadas para cada topología, demostrando la correcta correspondencia del circuito con una **sección bicuadrática de segundo orden**."
   ]
  },
  {
   "cell_type": "markdown",
   "id": "db48b32b-b501-4da2-98b0-e7ad7b114600",
   "metadata": {},
   "source": [
    "## Conexión en cascada de T₁(s) y T₂(s)\n",
    "\n",
    "Cuando dos sistemas lineales e invariantes en el tiempo (LTI) se conectan **en cascada**, la función de transferencia total resulta del **producto** de ambas:\n",
    "\n",
    "\\begin{equation}\n",
    "T_{\\text{cas}}(s) = T_2(s) \\cdot T_1(s) =\n",
    "\\frac{(s^2 + \\tfrac{1}{9})(s^2 + 9)}{(s^2 + \\tfrac{1}{5}s + 1)(s^2 + \\sqrt{2}s + 1)}\n",
    "\\end{equation}\n",
    "\n",
    "### Polos y ceros resultantes\n",
    "\n",
    "- **Ceros:** en $s = \\pm j\\,\\tfrac{1}{3}$ (provenientes de $T_2$) y $s = \\pm j\\,3$ (provenientes de $T_1$).  \n",
    "  Esto genera **dos muescas** o **notches** en $omega = \\tfrac{1}{3}$ y $omega = 3$ rad/s, donde el módulo se anula.\n",
    "\n",
    "- **Polos:** combinación de ambos pares:\n",
    "  - De $T_2$: $s = -0.1 \\pm j\\,0.995$ (alta $Q$, resonancia pronunciada cerca de \\(\\omega \\approx 1\\)).\n",
    "  - De $T_1$: $s = -0.707 \\pm j\\,0.707$ (Butterworth, caída suave).\n",
    "\n",
    "### Ganancia en extremos\n",
    "\n",
    "- En continua ($omega \\to 0$):  \n",
    "  $T_1(0) = 9,\\; T_2(0) = \\tfrac{1}{9} \\Rightarrow T_{\\text{cas}}(0) = 1$.\n",
    "- En altas frecuencias $|s| \\to \\infty$:  \n",
    "  Los grados del numerador y denominador son iguales en cada sección, por lo tanto cada una tiende a 1 y $T_{\\text{cas}} \\to 1$.\n",
    "- La ganancia total es unitaria tanto en baja como en alta frecuencia.\n",
    "\n",
    "### Respuesta en frecuencia resultante\n",
    "\n",
    "- El módulo $|T_{\\text{cas}}(j\\omega)|$:\n",
    "  - Es ≈1 en bajas y altas frecuencias.\n",
    "  - Presenta muescas profundas en $omega = \\tfrac{1}{3}$ y $omega = 3$.\n",
    "  - Muestra un pico de resonancia alrededor de $omega \\approx 1$ debido a los polos de alta $Q$ de $T_2$, atenuado parcialmente por la sección Butterworth $T_1$.\n",
    "\n",
    "- La fase $angle T_{\\text{cas}}(j\\omega)$:\n",
    "  - Sube +180° al pasar por cada par de ceros.\n",
    "  - Baja −180° al pasar por cada par de polos.\n",
    "  - Tiende nuevamente a 0° tanto en muy baja como en muy alta frecuencia.\n",
    "\n",
    "### Interpretación general\n",
    "\n",
    "La cascada de $T_1(s)$ y $T_2(s)$ produce un sistema con **respuesta pasa-todo** (ganancia ≈1 en los extremos),  \n",
    "pero con **dos notches** bien definidos y una **resonancia intermedia**, resultado de la combinación de los ceros y polos de ambas secciones."
   ]
  },
  {
   "cell_type": "markdown",
   "id": "87f31d9e-de88-4b84-84ec-ac82811090c4",
   "metadata": {},
   "source": [
    "## Conclusiones"
   ]
  },
  {
   "cell_type": "markdown",
   "id": "b00de69f-192d-469b-aad2-184e69c12724",
   "metadata": {},
   "source": [
    "Se comprobó que la red analizada presenta una función de transferencia bicuadrática, característica de los filtros de segundo orden.  \n",
    "A partir del análisis teórico y las simulaciones, se verificó la influencia de los parámetros del circuito en la ubicación de polos y ceros, y por lo tanto, en la forma de la respuesta en frecuencia.  \n",
    "El estudio permitió comprender cómo ajustar los componentes para obtener distintos tipos de filtros selectivos."
   ]
  }
 ],
 "metadata": {
  "kernelspec": {
   "display_name": "Python 3 (ipykernel)",
   "language": "python",
   "name": "python3"
  },
  "language_info": {
   "codemirror_mode": {
    "name": "ipython",
    "version": 3
   },
   "file_extension": ".py",
   "mimetype": "text/x-python",
   "name": "python",
   "nbconvert_exporter": "python",
   "pygments_lexer": "ipython3",
   "version": "3.13.6"
  }
 },
 "nbformat": 4,
 "nbformat_minor": 5
}
